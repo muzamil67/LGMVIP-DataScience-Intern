{
  "cells": [
    {
      "cell_type": "markdown",
      "source": [
        "<font color=\"red\"><b> Task Level:ADVANCED </font> <br>\n"
      ],
      "metadata": {
        "id": "Y_l42BIHLcS6"
      }
    },
    {
      "cell_type": "markdown",
      "source": [
        "<font color=\"green\"><b> Project Name:Next Word Prediction\n",
        " </font> <br>\n",
        "<font color=\"green\"><b> Name: Muzamil Amin</font> <br>\n",
        "<font color=\"green\"> language: python</font>"
      ],
      "metadata": {
        "id": "ZoOefR_DLngv"
      }
    },
    {
      "cell_type": "markdown",
      "metadata": {
        "id": "Iif_6kxsLVv6"
      },
      "source": [
        "**Import all libraries**"
      ]
    },
    {
      "cell_type": "code",
      "execution_count": null,
      "metadata": {
        "id": "FzHYycCALVv-"
      },
      "outputs": [],
      "source": [
        "import numpy as np\n",
        "from nltk.tokenize import RegexpTokenizer\n",
        "from keras.models import Sequential, load_model\n",
        "from keras.layers import LSTM\n",
        "from keras.layers.core import Dense, Activation\n",
        "from tensorflow.keras.optimizers import RMSprop\n",
        "import matplotlib.pyplot as plt\n",
        "import pickle\n",
        "import heapq"
      ]
    },
    {
      "cell_type": "markdown",
      "metadata": {
        "id": "56lwAA-BLVwB"
      },
      "source": [
        "**Load the data**"
      ]
    },
    {
      "cell_type": "code",
      "execution_count": null,
      "metadata": {
        "id": "9Hxfp2wKLVwC",
        "outputId": "4003bea5-0262-4324-f3b2-ed1c442b5a6e"
      },
      "outputs": [
        {
          "name": "stdout",
          "output_type": "stream",
          "text": [
            "corpus length: 581888\n"
          ]
        }
      ],
      "source": [
        "path = r'E:\\Datasets\\1661-0.txt'\n",
        "text = open(path, encoding='utf-8').read().lower()\n",
        "print('corpus length:', len(text))"
      ]
    },
    {
      "cell_type": "markdown",
      "metadata": {
        "id": "28PcntKlLVwE"
      },
      "source": [
        "**Split the entire dataset into each word**"
      ]
    },
    {
      "cell_type": "code",
      "execution_count": null,
      "metadata": {
        "id": "mT6KshnNLVwE"
      },
      "outputs": [],
      "source": [
        "tokenizer = RegexpTokenizer(r'\\w+')\n",
        "words = tokenizer.tokenize(text)"
      ]
    },
    {
      "cell_type": "markdown",
      "metadata": {
        "id": "gLFOKs9fLVwF"
      },
      "source": [
        "**To have the unique sorted words list.**"
      ]
    },
    {
      "cell_type": "code",
      "execution_count": null,
      "metadata": {
        "id": "PdVgdvfALVwG"
      },
      "outputs": [],
      "source": [
        "unique_words = np.unique(words)\n",
        "unique_word_index = dict((c, i) for i, c in enumerate(unique_words))"
      ]
    },
    {
      "cell_type": "markdown",
      "metadata": {
        "id": "sWhE-ZQzLVwH"
      },
      "source": [
        "**Feature Engineering & One Hot Encoding**"
      ]
    },
    {
      "cell_type": "code",
      "execution_count": null,
      "metadata": {
        "id": "IobFG6hbLVwI",
        "outputId": "ace7fd5c-1d46-4fd3-905b-b531e3aebefe"
      },
      "outputs": [
        {
          "name": "stdout",
          "output_type": "stream",
          "text": [
            "['project', 'gutenberg', 's', 'the', 'adventures']\n",
            "of\n"
          ]
        }
      ],
      "source": [
        "WORD_LENGTH = 5\n",
        "prev_words = []\n",
        "next_words = []\n",
        "for i in range(len(words) - WORD_LENGTH):\n",
        "    prev_words.append(words[i:i + WORD_LENGTH])\n",
        "    next_words.append(words[i + WORD_LENGTH])\n",
        "print(prev_words[0])\n",
        "print(next_words[0])"
      ]
    },
    {
      "cell_type": "markdown",
      "metadata": {
        "id": "UhmMLJO2LVwJ"
      },
      "source": [
        "**X : storing the features\n",
        "Y : storing the corresponding label(here, next word)**"
      ]
    },
    {
      "cell_type": "code",
      "execution_count": null,
      "metadata": {
        "id": "Y_PgLGdALVwJ"
      },
      "outputs": [],
      "source": [
        "X = np.zeros((len(prev_words), WORD_LENGTH, len(unique_words)), dtype=bool)\n",
        "Y = np.zeros((len(next_words), len(unique_words)), dtype=bool)\n",
        "for i, each_words in enumerate(prev_words):\n",
        "    for j, each_word in enumerate(each_words):\n",
        "        X[i, j, unique_word_index[each_word]] = 1\n",
        "    Y[i, unique_word_index[next_words[i]]] = 1"
      ]
    },
    {
      "cell_type": "code",
      "execution_count": null,
      "metadata": {
        "id": "DKOHF4_MLVwK",
        "outputId": "057c48c0-01b5-4c1e-de62-494d0848a158"
      },
      "outputs": [
        {
          "name": "stdout",
          "output_type": "stream",
          "text": [
            "[False False False ... False False False]\n"
          ]
        }
      ],
      "source": [
        "print(X[0][0])            #Single Sequence"
      ]
    },
    {
      "cell_type": "markdown",
      "metadata": {
        "id": "TL279jM0LVwK"
      },
      "source": [
        "**Building the Model**"
      ]
    },
    {
      "cell_type": "code",
      "execution_count": null,
      "metadata": {
        "id": "2mnVAfIALVwL"
      },
      "outputs": [],
      "source": [
        "model = Sequential()\n",
        "model.add(LSTM(128, input_shape=(WORD_LENGTH, len(unique_words))))\n",
        "model.add(Dense(len(unique_words)))\n",
        "model.add(Activation('softmax'))"
      ]
    },
    {
      "cell_type": "markdown",
      "metadata": {
        "id": "wVc2Bn04LVwM"
      },
      "source": [
        "**Training**"
      ]
    },
    {
      "cell_type": "code",
      "execution_count": null,
      "metadata": {
        "id": "eCthV9_aLVwM",
        "outputId": "a1da39e8-d940-4d25-e391-8879637fa039"
      },
      "outputs": [
        {
          "name": "stdout",
          "output_type": "stream",
          "text": [
            "Epoch 1/2\n",
            "811/811 [==============================] - 329s 401ms/step - loss: 5.9960 - accuracy: 0.1089 - val_loss: 6.9749 - val_accuracy: 0.1014\n",
            "Epoch 2/2\n",
            "811/811 [==============================] - 326s 402ms/step - loss: 5.7770 - accuracy: 0.1470 - val_loss: 7.8375 - val_accuracy: 0.1049\n"
          ]
        }
      ],
      "source": [
        "optimizer = RMSprop(lr=0.01)\n",
        "model.compile(loss='categorical_crossentropy', optimizer=optimizer, metrics=['accuracy'])\n",
        "history = model.fit(X, Y, validation_split=0.05, batch_size=128, epochs=2, shuffle=True).history"
      ]
    },
    {
      "cell_type": "markdown",
      "metadata": {
        "id": "E-ps7CklLVwM"
      },
      "source": [
        "**Load**"
      ]
    },
    {
      "cell_type": "code",
      "execution_count": null,
      "metadata": {
        "id": "eEJwykxYLVwN"
      },
      "outputs": [],
      "source": [
        "model.save('keras_next_word_model.h5')\n",
        "pickle.dump(history, open(\"history.p\", \"wb\"))\n",
        "model = load_model('keras_next_word_model.h5')\n",
        "history = pickle.load(open(\"history.p\", \"rb\"))"
      ]
    },
    {
      "cell_type": "markdown",
      "metadata": {
        "id": "JCaOQdUILVwN"
      },
      "source": [
        "**Prediction**"
      ]
    },
    {
      "cell_type": "code",
      "execution_count": null,
      "metadata": {
        "id": "IWxhMotqLVwO",
        "outputId": "08e1a32b-596a-47a2-8588-54883d127b9c"
      },
      "outputs": [
        {
          "name": "stdout",
          "output_type": "stream",
          "text": [
            "it\n",
            "is\n",
            "not\n",
            "a\n",
            "lack\n"
          ]
        },
        {
          "data": {
            "text/plain": [
              "array([[[0., 0., 0., ..., 0., 0., 0.],\n",
              "        [0., 0., 0., ..., 0., 0., 0.],\n",
              "        [0., 0., 0., ..., 0., 0., 0.],\n",
              "        [0., 0., 0., ..., 0., 0., 0.],\n",
              "        [0., 0., 0., ..., 0., 0., 0.]]])"
            ]
          },
          "execution_count": 64,
          "metadata": {},
          "output_type": "execute_result"
        }
      ],
      "source": [
        "def prepare_input(text):\n",
        "    x = np.zeros((1, WORD_LENGTH, len(unique_words)))\n",
        "    for t, word in enumerate(text.split()):\n",
        "        print(word)\n",
        "        x[0, t, unique_word_index[word]] = 1\n",
        "    return x\n",
        "prepare_input(\"It is not a lack\".lower())"
      ]
    },
    {
      "cell_type": "markdown",
      "metadata": {
        "id": "ZaGudozWLVwO"
      },
      "source": [
        "**To choose the best possible n words**"
      ]
    },
    {
      "cell_type": "code",
      "execution_count": null,
      "metadata": {
        "id": "gQBwIRQhLVwO"
      },
      "outputs": [],
      "source": [
        "def sample(preds, top_n=3):\n",
        "    preds = np.asarray(preds).astype('float64')\n",
        "    preds = np.log(preds)\n",
        "    exp_preds = np.exp(preds)\n",
        "    preds = exp_preds / np.sum(exp_preds)\n",
        "\n",
        "    return heapq.nlargest(top_n, range(len(preds)), preds.take)"
      ]
    },
    {
      "cell_type": "markdown",
      "metadata": {
        "id": "5qAP6VhMLVwP"
      },
      "source": [
        "**Function for prediction**"
      ]
    },
    {
      "cell_type": "code",
      "execution_count": null,
      "metadata": {
        "id": "JVTMRH0zLVwP"
      },
      "outputs": [],
      "source": [
        "def predict_completions(text, n=3):\n",
        "    if text == \"\":\n",
        "        return(\"0\")\n",
        "    x = prepare_input(text)\n",
        "    preds = model.predict(x, verbose=0)[0]\n",
        "    next_indices = sample(preds, n)\n",
        "    return [unique_words[idx] for idx in next_indices]"
      ]
    },
    {
      "cell_type": "markdown",
      "metadata": {
        "id": "aUHjs3oRLVwP"
      },
      "source": [
        "**Here, we use tokenizer.tokenize fo removing the punctuations \n",
        "and also we choose 5 first words because our predicts based on\n",
        "5 previous words.**"
      ]
    },
    {
      "cell_type": "code",
      "execution_count": null,
      "metadata": {
        "id": "Mc7JWJzmLVwQ",
        "outputId": "44baa821-236b-42e4-b112-9119d8449bd7"
      },
      "outputs": [
        {
          "name": "stdout",
          "output_type": "stream",
          "text": [
            "correct sentence:  Light the candle instead of cursuing darkness\n",
            "Sequence:  light the candle instead of\n",
            "light\n",
            "the\n",
            "candle\n",
            "instead\n",
            "of\n",
            "next possible words:  ['the', 'his', 'it', 'my', 'a']\n"
          ]
        }
      ],
      "source": [
        "q =  \"Light the candle instead of cursuing darkness\"\n",
        "print(\"correct sentence: \",q)\n",
        "seq = \" \".join(tokenizer.tokenize(q.lower())[0:5])\n",
        "print(\"Sequence: \",seq)\n",
        "print(\"next possible words: \", predict_completions(seq, 5))"
      ]
    },
    {
      "cell_type": "code",
      "execution_count": null,
      "metadata": {
        "id": "cmneXmtYLVwQ"
      },
      "outputs": [],
      "source": [
        ""
      ]
    }
  ],
  "metadata": {
    "kernelspec": {
      "display_name": "Python 3",
      "language": "python",
      "name": "python3"
    },
    "language_info": {
      "codemirror_mode": {
        "name": "ipython",
        "version": 3
      },
      "file_extension": ".py",
      "mimetype": "text/x-python",
      "name": "python",
      "nbconvert_exporter": "python",
      "pygments_lexer": "ipython3",
      "version": "3.8.5"
    },
    "colab": {
      "name": "Next word prediction.ipynb",
      "provenance": []
    }
  },
  "nbformat": 4,
  "nbformat_minor": 0
}