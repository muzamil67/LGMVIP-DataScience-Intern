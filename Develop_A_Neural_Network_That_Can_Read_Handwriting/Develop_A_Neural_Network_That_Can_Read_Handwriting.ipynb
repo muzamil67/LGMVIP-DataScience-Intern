{
  "nbformat": 4,
  "nbformat_minor": 0,
  "metadata": {
    "accelerator": "GPU",
    "colab": {
      "name": "Develop_A_Neural_Network_That_Can_Read_Handwriting.ipynb",
      "provenance": [],
      "collapsed_sections": []
    },
    "kernelspec": {
      "display_name": "Python 3",
      "name": "python3"
    },
    "language_info": {
      "name": "python"
    }
  },
  "cells": [
    {
      "cell_type": "markdown",
      "metadata": {
        "id": "Mcxhe6ibvL3X"
      },
      "source": [
        "<font color=\"red\"><b> Task Level:ADVANCED </font> <br>\n",
        "<font color=\"red\"><b> Task No:5 </font>\n"
      ]
    },
    {
      "cell_type": "markdown",
      "source": [
        "<font color=\"green\"><b> Project Name:Develop A Neural Network That Can Read Handwriting </font> <br>\n",
        "<font color=\"green\"><b> Name: Muzamil Amin</font> <br>\n",
        "<font color=\"green\"> language: python</font>"
      ],
      "metadata": {
        "id": "QLsiEsgTKnkh"
      }
    },
    {
      "cell_type": "markdown",
      "metadata": {
        "id": "jKvxdZ88vwZJ"
      },
      "source": [
        "##<b> Importing the required library"
      ]
    },
    {
      "cell_type": "code",
      "metadata": {
        "id": "dtBtRyE8Gr-g"
      },
      "source": [
        "import tensorflow as tf\n",
        "import matplotlib.pyplot as plt\n",
        "import numpy as np"
      ],
      "execution_count": 1,
      "outputs": []
    },
    {
      "cell_type": "markdown",
      "metadata": {
        "id": "45S04l1hv-5o"
      },
      "source": [
        "## <b> Loading the data from keras datasets"
      ]
    },
    {
      "cell_type": "code",
      "metadata": {
        "id": "VQA_bb3sJT-i",
        "colab": {
          "base_uri": "https://localhost:8080/"
        },
        "outputId": "7adcbe56-8aca-442d-a18c-38de3bf43c17"
      },
      "source": [
        "objects = tf.keras.datasets.mnist\n",
        "(training_images, training_labels), (test_images,test_labels) =  objects.load_data()"
      ],
      "execution_count": 2,
      "outputs": [
        {
          "output_type": "stream",
          "name": "stdout",
          "text": [
            "Downloading data from https://storage.googleapis.com/tensorflow/tf-keras-datasets/mnist.npz\n",
            "11493376/11490434 [==============================] - 0s 0us/step\n",
            "11501568/11490434 [==============================] - 0s 0us/step\n"
          ]
        }
      ]
    },
    {
      "cell_type": "code",
      "metadata": {
        "colab": {
          "base_uri": "https://localhost:8080/"
        },
        "id": "v-vfYo-4Lblr",
        "outputId": "4bd62c24-a5ba-41a3-bf9b-7b7448e919fb"
      },
      "source": [
        "print(training_images.shape)\n",
        "print(training_labels.shape)\n",
        "print(test_images.shape)\n",
        "print(test_labels.shape)\n"
      ],
      "execution_count": 3,
      "outputs": [
        {
          "output_type": "stream",
          "name": "stdout",
          "text": [
            "(60000, 28, 28)\n",
            "(60000,)\n",
            "(10000, 28, 28)\n",
            "(10000,)\n"
          ]
        }
      ]
    },
    {
      "cell_type": "code",
      "metadata": {
        "colab": {
          "base_uri": "https://localhost:8080/",
          "height": 268
        },
        "id": "MpkdJhu-Ntzk",
        "outputId": "1fc15805-3644-473e-cf1d-5379efd6a73c"
      },
      "source": [
        "for i in range(9):\n",
        "  plt.subplot(330+1+i)\n",
        "  plt.imshow(training_images[i])"
      ],
      "execution_count": 4,
      "outputs": [
        {
          "output_type": "display_data",
          "data": {
            "image/png": "[encoded data removed]",
            "text/plain": [
              "<Figure size 432x288 with 9 Axes>"
            ]
          },
          "metadata": {
            "needs_background": "light"
          }
        }
      ]
    },
    {
      "cell_type": "markdown",
      "metadata": {
        "id": "bdnI5DCEwM6Y"
      },
      "source": [
        "#### <b> These images are always read as a pixel  and each image pixels are in the range of 0 to 255 the 1st image in our training set is given below"
      ]
    },
    {
      "cell_type": "code",
      "metadata": {
        "colab": {
          "base_uri": "https://localhost:8080/"
        },
        "id": "aeadjzEuMBap",
        "outputId": "6a99d0e0-35c5-4f8f-e0df-8d0e7c3f1381"
      },
      "source": [
        "print(training_images[0])"
      ],
      "execution_count": 5,
      "outputs": [
        {
          "output_type": "stream",
          "name": "stdout",
          "text": [
            "[[  0   0   0   0   0   0   0   0   0   0   0   0   0   0   0   0   0   0\n",
            "    0   0   0   0   0   0   0   0   0   0]\n",
            " [  0   0   0   0   0   0   0   0   0   0   0   0   0   0   0   0   0   0\n",
            "    0   0   0   0   0   0   0   0   0   0]\n",
            " [  0   0   0   0   0   0   0   0   0   0   0   0   0   0   0   0   0   0\n",
            "    0   0   0   0   0   0   0   0   0   0]\n",
            " [  0   0   0   0   0   0   0   0   0   0   0   0   0   0   0   0   0   0\n",
            "    0   0   0   0   0   0   0   0   0   0]\n",
            " [  0   0   0   0   0   0   0   0   0   0   0   0   0   0   0   0   0   0\n",
            "    0   0   0   0   0   0   0   0   0   0]\n",
            " [  0   0   0   0   0   0   0   0   0   0   0   0   3  18  18  18 126 136\n",
            "  175  26 166 255 247 127   0   0   0   0]\n",
            " [  0   0   0   0   0   0   0   0  30  36  94 154 170 253 253 253 253 253\n",
            "  225 172 253 242 195  64   0   0   0   0]\n",
            " [  0   0   0   0   0   0   0  49 238 253 253 253 253 253 253 253 253 251\n",
            "   93  82  82  56  39   0   0   0   0   0]\n",
            " [  0   0   0   0   0   0   0  18 219 253 253 253 253 253 198 182 247 241\n",
            "    0   0   0   0   0   0   0   0   0   0]\n",
            " [  0   0   0   0   0   0   0   0  80 156 107 253 253 205  11   0  43 154\n",
            "    0   0   0   0   0   0   0   0   0   0]\n",
            " [  0   0   0   0   0   0   0   0   0  14   1 154 253  90   0   0   0   0\n",
            "    0   0   0   0   0   0   0   0   0   0]\n",
            " [  0   0   0   0   0   0   0   0   0   0   0 139 253 190   2   0   0   0\n",
            "    0   0   0   0   0   0   0   0   0   0]\n",
            " [  0   0   0   0   0   0   0   0   0   0   0  11 190 253  70   0   0   0\n",
            "    0   0   0   0   0   0   0   0   0   0]\n",
            " [  0   0   0   0   0   0   0   0   0   0   0   0  35 241 225 160 108   1\n",
            "    0   0   0   0   0   0   0   0   0   0]\n",
            " [  0   0   0   0   0   0   0   0   0   0   0   0   0  81 240 253 253 119\n",
            "   25   0   0   0   0   0   0   0   0   0]\n",
            " [  0   0   0   0   0   0   0   0   0   0   0   0   0   0  45 186 253 253\n",
            "  150  27   0   0   0   0   0   0   0   0]\n",
            " [  0   0   0   0   0   0   0   0   0   0   0   0   0   0   0  16  93 252\n",
            "  253 187   0   0   0   0   0   0   0   0]\n",
            " [  0   0   0   0   0   0   0   0   0   0   0   0   0   0   0   0   0 249\n",
            "  253 249  64   0   0   0   0   0   0   0]\n",
            " [  0   0   0   0   0   0   0   0   0   0   0   0   0   0  46 130 183 253\n",
            "  253 207   2   0   0   0   0   0   0   0]\n",
            " [  0   0   0   0   0   0   0   0   0   0   0   0  39 148 229 253 253 253\n",
            "  250 182   0   0   0   0   0   0   0   0]\n",
            " [  0   0   0   0   0   0   0   0   0   0  24 114 221 253 253 253 253 201\n",
            "   78   0   0   0   0   0   0   0   0   0]\n",
            " [  0   0   0   0   0   0   0   0  23  66 213 253 253 253 253 198  81   2\n",
            "    0   0   0   0   0   0   0   0   0   0]\n",
            " [  0   0   0   0   0   0  18 171 219 253 253 253 253 195  80   9   0   0\n",
            "    0   0   0   0   0   0   0   0   0   0]\n",
            " [  0   0   0   0  55 172 226 253 253 253 253 244 133  11   0   0   0   0\n",
            "    0   0   0   0   0   0   0   0   0   0]\n",
            " [  0   0   0   0 136 253 253 253 212 135 132  16   0   0   0   0   0   0\n",
            "    0   0   0   0   0   0   0   0   0   0]\n",
            " [  0   0   0   0   0   0   0   0   0   0   0   0   0   0   0   0   0   0\n",
            "    0   0   0   0   0   0   0   0   0   0]\n",
            " [  0   0   0   0   0   0   0   0   0   0   0   0   0   0   0   0   0   0\n",
            "    0   0   0   0   0   0   0   0   0   0]\n",
            " [  0   0   0   0   0   0   0   0   0   0   0   0   0   0   0   0   0   0\n",
            "    0   0   0   0   0   0   0   0   0   0]]\n"
          ]
        }
      ]
    },
    {
      "cell_type": "markdown",
      "metadata": {
        "id": "M9rgjAnxxyGG"
      },
      "source": [
        "## <b> Normalization (scaling in order to get each pixels in the range of 0 to 1)"
      ]
    },
    {
      "cell_type": "code",
      "metadata": {
        "id": "k7IfuKUmMenF"
      },
      "source": [
        "training_images = training_images.astype(\"float\") / 255.0\n",
        "test_images = test_images.astype(\"float\") / 255.0"
      ],
      "execution_count": 6,
      "outputs": []
    },
    {
      "cell_type": "code",
      "metadata": {
        "id": "S5uMG8XMZpQK"
      },
      "source": [
        "from keras.utils import np_utils\n",
        "\n",
        "training_labels = np_utils.to_categorical(training_labels, 10)     \n",
        "test_labels = np_utils.to_categorical(test_labels, 10)"
      ],
      "execution_count": 7,
      "outputs": []
    },
    {
      "cell_type": "code",
      "metadata": {
        "colab": {
          "base_uri": "https://localhost:8080/"
        },
        "id": "9TQxydVaT_1Q",
        "outputId": "46b1b063-cd5e-4c38-b13b-8f0e169d5d6b"
      },
      "source": [
        "training_images[4]"
      ],
      "execution_count": 8,
      "outputs": [
        {
          "output_type": "execute_result",
          "data": {
            "text/plain": [
              "array([[0.        , 0.        , 0.        , 0.        , 0.        ,\n",
              "        0.        , 0.        , 0.        , 0.        , 0.        ,\n",
              "        0.        , 0.        , 0.        , 0.        , 0.        ,\n",
              "        0.        , 0.        , 0.        , 0.        , 0.        ,\n",
              "        0.        , 0.        , 0.        , 0.        , 0.        ,\n",
              "        0.        , 0.        , 0.        ],\n",
              "       [0.        , 0.        , 0.        , 0.        , 0.        ,\n",
              "        0.        , 0.        , 0.        , 0.        , 0.        ,\n",
              "        0.        , 0.        , 0.        , 0.        , 0.        ,\n",
              "        0.        , 0.        , 0.        , 0.        , 0.        ,\n",
              "        0.        , 0.        , 0.        , 0.        , 0.        ,\n",
              "        0.        , 0.        , 0.        ],\n",
              "       [0.        , 0.        , 0.        , 0.        , 0.        ,\n",
              "        0.        , 0.        , 0.        , 0.        , 0.        ,\n",
              "        0.        , 0.        , 0.        , 0.        , 0.        ,\n",
              "        0.        , 0.        , 0.        , 0.        , 0.        ,\n",
              "        0.        , 0.        , 0.        , 0.        , 0.        ,\n",
              "        0.        , 0.        , 0.        ],\n",
              "       [0.        , 0.        , 0.        , 0.        , 0.        ,\n",
              "        0.        , 0.        , 0.        , 0.        , 0.        ,\n",
              "        0.        , 0.        , 0.        , 0.        , 0.        ,\n",
              "        0.        , 0.        , 0.        , 0.        , 0.        ,\n",
              "        0.        , 0.        , 0.        , 0.        , 0.        ,\n",
              "        0.        , 0.        , 0.        ],\n",
              "       [0.        , 0.        , 0.        , 0.        , 0.        ,\n",
              "        0.        , 0.        , 0.        , 0.        , 0.        ,\n",
              "        0.        , 0.        , 0.        , 0.        , 0.        ,\n",
              "        0.        , 0.        , 0.        , 0.        , 0.        ,\n",
              "        0.        , 0.        , 0.        , 0.        , 0.        ,\n",
              "        0.        , 0.        , 0.        ],\n",
              "       [0.        , 0.        , 0.        , 0.        , 0.        ,\n",
              "        0.        , 0.        , 0.        , 0.        , 0.        ,\n",
              "        0.        , 0.        , 0.        , 0.        , 0.        ,\n",
              "        0.        , 0.        , 0.        , 0.        , 0.        ,\n",
              "        0.        , 0.        , 0.        , 0.        , 0.        ,\n",
              "        0.        , 0.        , 0.        ],\n",
              "       [0.        , 0.        , 0.        , 0.        , 0.        ,\n",
              "        0.        , 0.        , 0.        , 0.        , 0.        ,\n",
              "        0.        , 0.        , 0.        , 0.        , 0.        ,\n",
              "        0.        , 0.        , 0.        , 0.        , 0.        ,\n",
              "        0.        , 0.        , 0.        , 0.        , 0.        ,\n",
              "        0.        , 0.        , 0.        ],\n",
              "       [0.        , 0.        , 0.        , 0.        , 0.        ,\n",
              "        0.        , 0.        , 0.        , 0.        , 0.        ,\n",
              "        0.        , 0.        , 0.21568627, 0.58039216, 0.82352941,\n",
              "        0.99215686, 0.99215686, 0.44313725, 0.34117647, 0.58039216,\n",
              "        0.21568627, 0.        , 0.        , 0.        , 0.        ,\n",
              "        0.        , 0.        , 0.        ],\n",
              "       [0.        , 0.        , 0.        , 0.        , 0.        ,\n",
              "        0.        , 0.        , 0.        , 0.        , 0.        ,\n",
              "        0.        , 0.34117647, 0.90980392, 0.98823529, 0.99215686,\n",
              "        0.74117647, 0.82352941, 0.98823529, 0.98823529, 0.99215686,\n",
              "        0.65882353, 0.        , 0.        , 0.        , 0.        ,\n",
              "        0.        , 0.        , 0.        ],\n",
              "       [0.        , 0.        , 0.        , 0.        , 0.        ,\n",
              "        0.        , 0.        , 0.        , 0.        , 0.01568627,\n",
              "        0.22352941, 0.94901961, 0.98823529, 0.74509804, 0.25490196,\n",
              "        0.01960784, 0.04705882, 0.71372549, 0.98823529, 0.99215686,\n",
              "        0.45490196, 0.        , 0.        , 0.        , 0.        ,\n",
              "        0.        , 0.        , 0.        ],\n",
              "       [0.        , 0.        , 0.        , 0.        , 0.        ,\n",
              "        0.        , 0.        , 0.        , 0.        , 0.37647059,\n",
              "        0.98823529, 0.98823529, 0.71764706, 0.05490196, 0.        ,\n",
              "        0.        , 0.36078431, 0.98823529, 0.98823529, 0.88235294,\n",
              "        0.08235294, 0.        , 0.        , 0.        , 0.        ,\n",
              "        0.        , 0.        , 0.        ],\n",
              "       [0.        , 0.        , 0.        , 0.        , 0.        ,\n",
              "        0.        , 0.        , 0.        , 0.51764706, 0.99215686,\n",
              "        0.98823529, 0.57254902, 0.05490196, 0.        , 0.        ,\n",
              "        0.        , 0.84313725, 0.98823529, 0.98823529, 0.30980392,\n",
              "        0.        , 0.        , 0.        , 0.        , 0.        ,\n",
              "        0.        , 0.        , 0.        ],\n",
              "       [0.        , 0.        , 0.        , 0.        , 0.        ,\n",
              "        0.        , 0.        , 0.49411765, 0.99215686, 0.96862745,\n",
              "        0.69019608, 0.03529412, 0.        , 0.        , 0.03137255,\n",
              "        0.30588235, 0.96078431, 0.99215686, 0.50588235, 0.        ,\n",
              "        0.        , 0.        , 0.        , 0.        , 0.        ,\n",
              "        0.        , 0.        , 0.        ],\n",
              "       [0.        , 0.        , 0.        , 0.        , 0.        ,\n",
              "        0.        , 0.0627451 , 0.90980392, 0.98823529, 0.69019608,\n",
              "        0.        , 0.        , 0.        , 0.14117647, 0.78823529,\n",
              "        0.98823529, 0.98823529, 0.6627451 , 0.04313725, 0.        ,\n",
              "        0.        , 0.        , 0.        , 0.        , 0.        ,\n",
              "        0.        , 0.        , 0.        ],\n",
              "       [0.        , 0.        , 0.        , 0.        , 0.        ,\n",
              "        0.        , 0.08627451, 0.98823529, 0.98823529, 0.11764706,\n",
              "        0.08627451, 0.46666667, 0.77254902, 0.94509804, 0.99215686,\n",
              "        0.98823529, 0.98431373, 0.30196078, 0.        , 0.        ,\n",
              "        0.        , 0.        , 0.        , 0.        , 0.        ,\n",
              "        0.        , 0.        , 0.        ],\n",
              "       [0.        , 0.        , 0.        , 0.        , 0.        ,\n",
              "        0.        , 0.0627451 , 0.90588235, 0.98823529, 0.99215686,\n",
              "        0.98823529, 0.98823529, 0.98823529, 0.88627451, 0.89019608,\n",
              "        0.98823529, 0.90588235, 0.        , 0.        , 0.        ,\n",
              "        0.        , 0.        , 0.        , 0.        , 0.        ,\n",
              "        0.        , 0.        , 0.        ],\n",
              "       [0.        , 0.        , 0.        , 0.        , 0.        ,\n",
              "        0.        , 0.        , 0.21568627, 0.92156863, 0.99215686,\n",
              "        0.85098039, 0.54117647, 0.16470588, 0.09411765, 0.75294118,\n",
              "        0.98823529, 0.56078431, 0.        , 0.        , 0.        ,\n",
              "        0.        , 0.        , 0.        , 0.        , 0.        ,\n",
              "        0.        , 0.        , 0.        ],\n",
              "       [0.        , 0.        , 0.        , 0.        , 0.        ,\n",
              "        0.        , 0.        , 0.        , 0.        , 0.        ,\n",
              "        0.        , 0.        , 0.        , 0.24313725, 1.        ,\n",
              "        0.99215686, 0.42745098, 0.        , 0.        , 0.        ,\n",
              "        0.        , 0.        , 0.        , 0.        , 0.        ,\n",
              "        0.        , 0.        , 0.        ],\n",
              "       [0.        , 0.        , 0.        , 0.        , 0.        ,\n",
              "        0.        , 0.        , 0.        , 0.        , 0.        ,\n",
              "        0.        , 0.        , 0.        , 0.27843137, 0.99215686,\n",
              "        0.98823529, 0.08235294, 0.        , 0.        , 0.        ,\n",
              "        0.        , 0.        , 0.        , 0.        , 0.        ,\n",
              "        0.        , 0.        , 0.        ],\n",
              "       [0.        , 0.        , 0.        , 0.        , 0.        ,\n",
              "        0.        , 0.        , 0.        , 0.        , 0.        ,\n",
              "        0.        , 0.        , 0.        , 0.        , 0.99215686,\n",
              "        0.98823529, 0.08235294, 0.        , 0.        , 0.        ,\n",
              "        0.        , 0.        , 0.        , 0.        , 0.        ,\n",
              "        0.        , 0.        , 0.        ],\n",
              "       [0.        , 0.        , 0.        , 0.        , 0.        ,\n",
              "        0.        , 0.        , 0.        , 0.        , 0.        ,\n",
              "        0.        , 0.        , 0.        , 0.27843137, 0.99215686,\n",
              "        0.98823529, 0.08235294, 0.        , 0.        , 0.        ,\n",
              "        0.        , 0.        , 0.        , 0.        , 0.        ,\n",
              "        0.        , 0.        , 0.        ],\n",
              "       [0.        , 0.        , 0.        , 0.        , 0.        ,\n",
              "        0.        , 0.        , 0.        , 0.        , 0.        ,\n",
              "        0.        , 0.        , 0.        , 0.41568627, 0.99215686,\n",
              "        0.98823529, 0.08235294, 0.        , 0.        , 0.        ,\n",
              "        0.        , 0.        , 0.        , 0.        , 0.        ,\n",
              "        0.        , 0.        , 0.        ],\n",
              "       [0.        , 0.        , 0.        , 0.        , 0.        ,\n",
              "        0.        , 0.        , 0.        , 0.        , 0.        ,\n",
              "        0.        , 0.        , 0.        , 0.17647059, 1.        ,\n",
              "        0.99215686, 0.08235294, 0.        , 0.        , 0.        ,\n",
              "        0.        , 0.        , 0.        , 0.        , 0.        ,\n",
              "        0.        , 0.        , 0.        ],\n",
              "       [0.        , 0.        , 0.        , 0.        , 0.        ,\n",
              "        0.        , 0.        , 0.        , 0.        , 0.        ,\n",
              "        0.        , 0.        , 0.        , 0.        , 0.85490196,\n",
              "        0.98823529, 0.21960784, 0.        , 0.        , 0.        ,\n",
              "        0.        , 0.        , 0.        , 0.        , 0.        ,\n",
              "        0.        , 0.        , 0.        ],\n",
              "       [0.        , 0.        , 0.        , 0.        , 0.        ,\n",
              "        0.        , 0.        , 0.        , 0.        , 0.        ,\n",
              "        0.        , 0.        , 0.        , 0.        , 0.37647059,\n",
              "        0.98823529, 0.74117647, 0.16470588, 0.        , 0.        ,\n",
              "        0.        , 0.        , 0.        , 0.        , 0.        ,\n",
              "        0.        , 0.        , 0.        ],\n",
              "       [0.        , 0.        , 0.        , 0.        , 0.        ,\n",
              "        0.        , 0.        , 0.        , 0.        , 0.        ,\n",
              "        0.        , 0.        , 0.        , 0.        , 0.05490196,\n",
              "        0.72156863, 0.98823529, 0.66666667, 0.04313725, 0.        ,\n",
              "        0.        , 0.        , 0.        , 0.        , 0.        ,\n",
              "        0.        , 0.        , 0.        ],\n",
              "       [0.        , 0.        , 0.        , 0.        , 0.        ,\n",
              "        0.        , 0.        , 0.        , 0.        , 0.        ,\n",
              "        0.        , 0.        , 0.        , 0.        , 0.        ,\n",
              "        0.05490196, 0.57647059, 0.98823529, 0.16470588, 0.        ,\n",
              "        0.        , 0.        , 0.        , 0.        , 0.        ,\n",
              "        0.        , 0.        , 0.        ],\n",
              "       [0.        , 0.        , 0.        , 0.        , 0.        ,\n",
              "        0.        , 0.        , 0.        , 0.        , 0.        ,\n",
              "        0.        , 0.        , 0.        , 0.        , 0.        ,\n",
              "        0.        , 0.        , 0.        , 0.        , 0.        ,\n",
              "        0.        , 0.        , 0.        , 0.        , 0.        ,\n",
              "        0.        , 0.        , 0.        ]])"
            ]
          },
          "metadata": {},
          "execution_count": 8
        }
      ]
    },
    {
      "cell_type": "code",
      "metadata": {
        "colab": {
          "base_uri": "https://localhost:8080/"
        },
        "id": "fQN434xnNOCx",
        "outputId": "bd0c84c3-bf18-4f26-ec45-e60c5aaea42e"
      },
      "source": [
        "np.unique(training_labels)"
      ],
      "execution_count": 9,
      "outputs": [
        {
          "output_type": "execute_result",
          "data": {
            "text/plain": [
              "array([0., 1.], dtype=float32)"
            ]
          },
          "metadata": {},
          "execution_count": 9
        }
      ]
    },
    {
      "cell_type": "code",
      "metadata": {
        "id": "t01Iqo7dN1aC"
      },
      "source": [
        "from tensorflow.keras.models import Sequential\n",
        "from tensorflow.keras.layers import Dense, Conv2D, Flatten, MaxPooling2D, Dropout, Activation"
      ],
      "execution_count": 10,
      "outputs": []
    },
    {
      "cell_type": "markdown",
      "source": [
        "# <b>reshaping for cnn"
      ],
      "metadata": {
        "id": "nNuyIIDBMtKQ"
      }
    },
    {
      "cell_type": "code",
      "metadata": {
        "colab": {
          "base_uri": "https://localhost:8080/"
        },
        "id": "aJPFOUNTOKIT",
        "outputId": "ad1e47f0-b451-490f-eec6-58979640c3f2"
      },
      "source": [
        "training_images = np.array(training_images).reshape(-1,28,28,1)\n",
        "test_images = np.array(test_images).reshape(-1,28,28,1)\n",
        "print(training_images.shape)\n",
        "print(test_images.shape)"
      ],
      "execution_count": 11,
      "outputs": [
        {
          "output_type": "stream",
          "name": "stdout",
          "text": [
            "(60000, 28, 28, 1)\n",
            "(10000, 28, 28, 1)\n"
          ]
        }
      ]
    },
    {
      "cell_type": "markdown",
      "metadata": {
        "id": "bVr2fromytZ_"
      },
      "source": [
        "## <b>Model Building"
      ]
    },
    {
      "cell_type": "code",
      "metadata": {
        "id": "yWRuD0u_N1lR"
      },
      "source": [
        "#creating the model\n",
        "model = Sequential()\n",
        "\n",
        "#adding the 1st convolutional layer \n",
        "model.add(Conv2D(64,(3,3), input_shape=training_images.shape[1:]))\n",
        "model.add(Activation('relu'))\n",
        "model.add(MaxPooling2D(pool_size=(2,2)))\n",
        "model.add(Dropout(0.2))  ## adding Dropout to avoid overfitting\n",
        "\n",
        "#adding 2nd convolutional layer\n",
        "model.add(Conv2D(64,(3,3)))\n",
        "model.add(Activation('relu'))\n",
        "model.add(MaxPooling2D(pool_size=(2,2)))\n",
        "model.add(Dropout(0.2))\n",
        "\n",
        "#adding the 3rd convolutional layer\n",
        "model.add(Conv2D(64,(3,3)))\n",
        "model.add(Activation('relu'))\n",
        "model.add(MaxPooling2D(pool_size=(2,2)))\n",
        "model.add(Dropout(0.2))\n",
        "\n",
        "#adding flatten for Flattening the data to get 1d data\n",
        "model.add(Flatten())\n",
        "\n",
        "#adding 1st fully connected layer\n",
        "model.add(Dense(64))\n",
        "model.add(Activation('relu'))\n",
        "\n",
        "#adding 2nd dense connected layer\n",
        "model.add(Dense(32))\n",
        "model.add(Activation('relu'))\n",
        "\n",
        "#adding last dense connected layer\n",
        "model.add(Dense(10))  # output must be equal to number of classes, so last dense  connected layer is equal to 10\n",
        "model.add(Activation('softmax'))  ## activation function changed to softmax for class probabilities\n",
        "\n"
      ],
      "execution_count": 12,
      "outputs": []
    },
    {
      "cell_type": "code",
      "metadata": {
        "colab": {
          "base_uri": "https://localhost:8080/"
        },
        "id": "5QICljDEN1sv",
        "outputId": "ed2d602e-9e3f-40af-bf83-abb267acef97"
      },
      "source": [
        "model.summary()\n"
      ],
      "execution_count": 13,
      "outputs": [
        {
          "output_type": "stream",
          "name": "stdout",
          "text": [
            "Model: \"sequential\"\n",
            "_________________________________________________________________\n",
            " Layer (type)                Output Shape              Param #   \n",
            "=================================================================\n",
            " conv2d (Conv2D)             (None, 26, 26, 64)        640       \n",
            "                                                                 \n",
            " activation (Activation)     (None, 26, 26, 64)        0         \n",
            "                                                                 \n",
            " max_pooling2d (MaxPooling2D  (None, 13, 13, 64)       0         \n",
            " )                                                               \n",
            "                                                                 \n",
            " dropout (Dropout)           (None, 13, 13, 64)        0         \n",
            "                                                                 \n",
            " conv2d_1 (Conv2D)           (None, 11, 11, 64)        36928     \n",
            "                                                                 \n",
            " activation_1 (Activation)   (None, 11, 11, 64)        0         \n",
            "                                                                 \n",
            " max_pooling2d_1 (MaxPooling  (None, 5, 5, 64)         0         \n",
            " 2D)                                                             \n",
            "                                                                 \n",
            " dropout_1 (Dropout)         (None, 5, 5, 64)          0         \n",
            "                                                                 \n",
            " conv2d_2 (Conv2D)           (None, 3, 3, 64)          36928     \n",
            "                                                                 \n",
            " activation_2 (Activation)   (None, 3, 3, 64)          0         \n",
            "                                                                 \n",
            " max_pooling2d_2 (MaxPooling  (None, 1, 1, 64)         0         \n",
            " 2D)                                                             \n",
            "                                                                 \n",
            " dropout_2 (Dropout)         (None, 1, 1, 64)          0         \n",
            "                                                                 \n",
            " flatten (Flatten)           (None, 64)                0         \n",
            "                                                                 \n",
            " dense (Dense)               (None, 64)                4160      \n",
            "                                                                 \n",
            " activation_3 (Activation)   (None, 64)                0         \n",
            "                                                                 \n",
            " dense_1 (Dense)             (None, 32)                2080      \n",
            "                                                                 \n",
            " activation_4 (Activation)   (None, 32)                0         \n",
            "                                                                 \n",
            " dense_2 (Dense)             (None, 10)                330       \n",
            "                                                                 \n",
            " activation_5 (Activation)   (None, 10)                0         \n",
            "                                                                 \n",
            "=================================================================\n",
            "Total params: 81,066\n",
            "Trainable params: 81,066\n",
            "Non-trainable params: 0\n",
            "_________________________________________________________________\n"
          ]
        }
      ]
    },
    {
      "cell_type": "markdown",
      "metadata": {
        "id": "3ip8GxDzy5Jo"
      },
      "source": [
        "## <b>Model compiling"
      ]
    },
    {
      "cell_type": "code",
      "metadata": {
        "id": "LSDrZR7TN1x_"
      },
      "source": [
        "# compiling the model\n",
        "model.compile(optimizer='adam', loss='categorical_crossentropy', metrics=['accuracy'])"
      ],
      "execution_count": 14,
      "outputs": []
    },
    {
      "cell_type": "code",
      "metadata": {
        "colab": {
          "base_uri": "https://localhost:8080/"
        },
        "id": "LOiFX0x4bk7s",
        "outputId": "242d7ee7-0dba-4ac8-b038-419d3caad4f4"
      },
      "source": [
        "print(training_images.shape)\n",
        "print(training_labels.shape)"
      ],
      "execution_count": 15,
      "outputs": [
        {
          "output_type": "stream",
          "name": "stdout",
          "text": [
            "(60000, 28, 28, 1)\n",
            "(60000, 10)\n"
          ]
        }
      ]
    },
    {
      "cell_type": "markdown",
      "metadata": {
        "id": "bFypiaklzANz"
      },
      "source": [
        "## <b>Model fitting\n",
        "\n"
      ]
    },
    {
      "cell_type": "code",
      "metadata": {
        "colab": {
          "base_uri": "https://localhost:8080/"
        },
        "id": "U0d5nEh4N12n",
        "outputId": "e01acc22-90d6-4651-a55d-ac6f3f852ce0"
      },
      "source": [
        "np.random.seed(24)\n",
        "\n",
        "model.fit(x=training_images,y=training_labels, epochs=30,validation_split=0.3)"
      ],
      "execution_count": 16,
      "outputs": [
        {
          "output_type": "stream",
          "name": "stdout",
          "text": [
            "Epoch 1/30\n",
            "1313/1313 [==============================] - 24s 11ms/step - loss: 0.4504 - accuracy: 0.8553 - val_loss: 0.1338 - val_accuracy: 0.9597\n",
            "Epoch 2/30\n",
            "1313/1313 [==============================] - 15s 11ms/step - loss: 0.1566 - accuracy: 0.9528 - val_loss: 0.0779 - val_accuracy: 0.9761\n",
            "Epoch 3/30\n",
            "1313/1313 [==============================] - 14s 11ms/step - loss: 0.1201 - accuracy: 0.9634 - val_loss: 0.0649 - val_accuracy: 0.9812\n",
            "Epoch 4/30\n",
            "1313/1313 [==============================] - 14s 11ms/step - loss: 0.0980 - accuracy: 0.9700 - val_loss: 0.0594 - val_accuracy: 0.9823\n",
            "Epoch 5/30\n",
            "1313/1313 [==============================] - 14s 11ms/step - loss: 0.0883 - accuracy: 0.9732 - val_loss: 0.0593 - val_accuracy: 0.9824\n",
            "Epoch 6/30\n",
            "1313/1313 [==============================] - 14s 11ms/step - loss: 0.0748 - accuracy: 0.9775 - val_loss: 0.0547 - val_accuracy: 0.9828\n",
            "Epoch 7/30\n",
            "1313/1313 [==============================] - 14s 11ms/step - loss: 0.0737 - accuracy: 0.9771 - val_loss: 0.0505 - val_accuracy: 0.9854\n",
            "Epoch 8/30\n",
            "1313/1313 [==============================] - 14s 11ms/step - loss: 0.0673 - accuracy: 0.9791 - val_loss: 0.0476 - val_accuracy: 0.9859\n",
            "Epoch 9/30\n",
            "1313/1313 [==============================] - 14s 11ms/step - loss: 0.0634 - accuracy: 0.9800 - val_loss: 0.0551 - val_accuracy: 0.9847\n",
            "Epoch 10/30\n",
            "1313/1313 [==============================] - 14s 11ms/step - loss: 0.0603 - accuracy: 0.9817 - val_loss: 0.0527 - val_accuracy: 0.9846\n",
            "Epoch 11/30\n",
            "1313/1313 [==============================] - 14s 11ms/step - loss: 0.0559 - accuracy: 0.9825 - val_loss: 0.0480 - val_accuracy: 0.9862\n",
            "Epoch 12/30\n",
            "1313/1313 [==============================] - 14s 11ms/step - loss: 0.0518 - accuracy: 0.9845 - val_loss: 0.0482 - val_accuracy: 0.9859\n",
            "Epoch 13/30\n",
            "1313/1313 [==============================] - 14s 11ms/step - loss: 0.0507 - accuracy: 0.9844 - val_loss: 0.0463 - val_accuracy: 0.9871\n",
            "Epoch 14/30\n",
            "1313/1313 [==============================] - 14s 11ms/step - loss: 0.0490 - accuracy: 0.9845 - val_loss: 0.0506 - val_accuracy: 0.9851\n",
            "Epoch 15/30\n",
            "1313/1313 [==============================] - 14s 11ms/step - loss: 0.0467 - accuracy: 0.9855 - val_loss: 0.0439 - val_accuracy: 0.9877\n",
            "Epoch 16/30\n",
            "1313/1313 [==============================] - 14s 11ms/step - loss: 0.0444 - accuracy: 0.9859 - val_loss: 0.0433 - val_accuracy: 0.9876\n",
            "Epoch 17/30\n",
            "1313/1313 [==============================] - 14s 11ms/step - loss: 0.0433 - accuracy: 0.9868 - val_loss: 0.0440 - val_accuracy: 0.9871\n",
            "Epoch 18/30\n",
            "1313/1313 [==============================] - 14s 11ms/step - loss: 0.0423 - accuracy: 0.9865 - val_loss: 0.0406 - val_accuracy: 0.9875\n",
            "Epoch 19/30\n",
            "1313/1313 [==============================] - 14s 11ms/step - loss: 0.0412 - accuracy: 0.9865 - val_loss: 0.0435 - val_accuracy: 0.9874\n",
            "Epoch 20/30\n",
            "1313/1313 [==============================] - 14s 11ms/step - loss: 0.0384 - accuracy: 0.9878 - val_loss: 0.0429 - val_accuracy: 0.9885\n",
            "Epoch 21/30\n",
            "1313/1313 [==============================] - 14s 11ms/step - loss: 0.0385 - accuracy: 0.9883 - val_loss: 0.0481 - val_accuracy: 0.9874\n",
            "Epoch 22/30\n",
            "1313/1313 [==============================] - 14s 11ms/step - loss: 0.0400 - accuracy: 0.9875 - val_loss: 0.0484 - val_accuracy: 0.9864\n",
            "Epoch 23/30\n",
            "1313/1313 [==============================] - 14s 11ms/step - loss: 0.0354 - accuracy: 0.9890 - val_loss: 0.0422 - val_accuracy: 0.9879\n",
            "Epoch 24/30\n",
            "1313/1313 [==============================] - 14s 11ms/step - loss: 0.0337 - accuracy: 0.9895 - val_loss: 0.0458 - val_accuracy: 0.9881\n",
            "Epoch 25/30\n",
            "1313/1313 [==============================] - 14s 11ms/step - loss: 0.0355 - accuracy: 0.9883 - val_loss: 0.0435 - val_accuracy: 0.9889\n",
            "Epoch 26/30\n",
            "1313/1313 [==============================] - 14s 11ms/step - loss: 0.0354 - accuracy: 0.9887 - val_loss: 0.0441 - val_accuracy: 0.9881\n",
            "Epoch 27/30\n",
            "1313/1313 [==============================] - 14s 11ms/step - loss: 0.0335 - accuracy: 0.9897 - val_loss: 0.0447 - val_accuracy: 0.9885\n",
            "Epoch 28/30\n",
            "1313/1313 [==============================] - 14s 11ms/step - loss: 0.0323 - accuracy: 0.9896 - val_loss: 0.0469 - val_accuracy: 0.9878\n",
            "Epoch 29/30\n",
            "1313/1313 [==============================] - 14s 11ms/step - loss: 0.0328 - accuracy: 0.9898 - val_loss: 0.0399 - val_accuracy: 0.9894\n",
            "Epoch 30/30\n",
            "1313/1313 [==============================] - 14s 11ms/step - loss: 0.0330 - accuracy: 0.9895 - val_loss: 0.0469 - val_accuracy: 0.9877\n"
          ]
        },
        {
          "output_type": "execute_result",
          "data": {
            "text/plain": [
              "<keras.callbacks.History at 0x7ff9601ece10>"
            ]
          },
          "metadata": {},
          "execution_count": 16
        }
      ]
    },
    {
      "cell_type": "markdown",
      "metadata": {
        "id": "lw_6SV3LzNs9"
      },
      "source": [
        "## <b> Evaluation\n",
        "\n"
      ]
    },
    {
      "cell_type": "code",
      "metadata": {
        "colab": {
          "base_uri": "https://localhost:8080/"
        },
        "id": "kgMXEdixN162",
        "outputId": "2e4d68e7-2197-4daf-fc51-1f51d7f7f65b"
      },
      "source": [
        "test_loss, test_accuracy = model.evaluate(test_images,test_labels)\n",
        "print('test loss on 10000 test sample:', test_loss)\n",
        "print('test accuracy on 10000 test sample:', test_accuracy)"
      ],
      "execution_count": 17,
      "outputs": [
        {
          "output_type": "stream",
          "name": "stdout",
          "text": [
            "313/313 [==============================] - 2s 5ms/step - loss: 0.0387 - accuracy: 0.9896\n",
            "test loss on 10000 test sample: 0.03865136206150055\n",
            "test accuracy on 10000 test sample: 0.9896000027656555\n"
          ]
        }
      ]
    },
    {
      "cell_type": "markdown",
      "source": [
        "# <b>Predictions"
      ],
      "metadata": {
        "id": "biHN_8U-PcK7"
      }
    },
    {
      "cell_type": "code",
      "metadata": {
        "id": "DTu74hMQjsQW",
        "colab": {
          "base_uri": "https://localhost:8080/"
        },
        "outputId": "a3169d5b-7634-4fa0-98d6-1fa42af441a9"
      },
      "source": [
        "predictions = model.predict(test_images)\n",
        "predictions"
      ],
      "execution_count": 18,
      "outputs": [
        {
          "output_type": "execute_result",
          "data": {
            "text/plain": [
              "array([[4.36610557e-12, 2.08704705e-07, 2.89319428e-06, ...,\n",
              "        9.99996781e-01, 8.63409984e-13, 7.27865823e-10],\n",
              "       [4.54403496e-13, 5.31327544e-07, 9.99999404e-01, ...,\n",
              "        8.49419095e-08, 2.92301753e-14, 1.87827057e-15],\n",
              "       [9.57866703e-11, 9.99999642e-01, 2.48154208e-07, ...,\n",
              "        3.62693733e-08, 5.14675378e-08, 9.13244758e-11],\n",
              "       ...,\n",
              "       [1.47302691e-11, 1.26924942e-08, 1.17149901e-09, ...,\n",
              "        2.32882318e-08, 2.48368735e-07, 2.40914524e-08],\n",
              "       [1.85410499e-07, 1.13843743e-11, 1.27342865e-08, ...,\n",
              "        1.98946110e-10, 4.17887395e-06, 4.34129470e-06],\n",
              "       [3.06102237e-08, 6.52050969e-10, 1.83230348e-10, ...,\n",
              "        2.43125242e-11, 1.10159348e-07, 2.60690829e-13]], dtype=float32)"
            ]
          },
          "metadata": {},
          "execution_count": 18
        }
      ]
    },
    {
      "cell_type": "code",
      "metadata": {
        "colab": {
          "base_uri": "https://localhost:8080/"
        },
        "id": "kxu-k9FokY46",
        "outputId": "7e7b8fbc-5fa1-4529-e605-cee9b7c2c6e7"
      },
      "source": [
        "print(np.argmax(model.predict(test_images[range(33,40)]) ,axis=1))"
      ],
      "execution_count": 19,
      "outputs": [
        {
          "output_type": "stream",
          "name": "stdout",
          "text": [
            "[4 7 2 7 1 2 1]\n"
          ]
        }
      ]
    },
    {
      "cell_type": "code",
      "metadata": {
        "colab": {
          "base_uri": "https://localhost:8080/",
          "height": 1000
        },
        "id": "5jOlgSqGk3q2",
        "outputId": "ff8aeed7-8181-42a4-fecf-7c16acf5a272"
      },
      "source": [
        "for i in range(33,40):\n",
        "  plt.imshow(test_images[i].reshape(28,28))\n",
        "  plt.show()\n"
      ],
      "execution_count": 20,
      "outputs": [
        {
          "output_type": "display_data",
          "data": {
            "image/png": "[encoded data removed]",
            "text/plain": [
              "<Figure size 432x288 with 1 Axes>"
            ]
          },
          "metadata": {
            "needs_background": "light"
          }
        },
        {
          "output_type": "display_data",
          "data": {
            "image/png": "[encoded data removed]",
            "text/plain": [
              "<Figure size 432x288 with 1 Axes>"
            ]
          },
          "metadata": {
            "needs_background": "light"
          }
        },
        {
          "output_type": "display_data",
          "data": {
            "image/png": "[encoded data removed]",
            "text/plain": [
              "<Figure size 432x288 with 1 Axes>"
            ]
          },
          "metadata": {
            "needs_background": "light"
          }
        },
        {
          "output_type": "display_data",
          "data": {
            "image/png": "[encoded data removed]",
            "text/plain": [
              "<Figure size 432x288 with 1 Axes>"
            ]
          },
          "metadata": {
            "needs_background": "light"
          }
        },
        {
          "output_type": "display_data",
          "data": {
            "image/png": "[encoded data removed]",
            "text/plain": [
              "<Figure size 432x288 with 1 Axes>"
            ]
          },
          "metadata": {
            "needs_background": "light"
          }
        },
        {
          "output_type": "display_data",
          "data": {
            "image/png": "[encoded data removed]",
            "text/plain": [
              "<Figure size 432x288 with 1 Axes>"
            ]
          },
          "metadata": {
            "needs_background": "light"
          }
        },
        {
          "output_type": "display_data",
          "data": {
            "image/png": "[encoded data removed]",
            "text/plain": [
              "<Figure size 432x288 with 1 Axes>"
            ]
          },
          "metadata": {
            "needs_background": "light"
          }
        }
      ]
    },
    {
      "cell_type": "code",
      "metadata": {
        "id": "DtemFqUsn0WU"
      },
      "source": [
        ""
      ],
      "execution_count": null,
      "outputs": []
    },
    {
      "cell_type": "code",
      "metadata": {
        "id": "hvB70QJVo6pU"
      },
      "source": [
        ""
      ],
      "execution_count": null,
      "outputs": []
    }
  ]
}